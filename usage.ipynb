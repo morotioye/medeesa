{
 "cells": [
  {
   "cell_type": "code",
   "execution_count": null,
   "metadata": {},
   "outputs": [],
   "source": [
    "import os\n",
    "from dotenv import load_dotenv\n",
    "from mkeds import MKEDS\n",
    "\n",
    "\n",
    "load_dotenv()\n",
    "device_id = os.getenv(\"NEUROSITY_DEVICE_ID\")\n",
    "email = os.getenv(\"NEUROSITY_EMAIL\")\n",
    "password = os.getenv(\"NEUROSITY_PASSWORD\")\n",
    "\n",
    "# Instantiate the MKEDS class\n",
    "mkeds = MKEDS(device_id, email, password)"
   ]
  },
  {
   "cell_type": "code",
   "execution_count": null,
   "metadata": {},
   "outputs": [],
   "source": [
    "# Collect non-segmented data\n",
    "print(\"Collecting non-segmented data...\")\n",
    "mkeds.run_non_segmented(output_file=\"non_segmented_data.csv\", duration=3, verbose=True)\n"
   ]
  },
  {
   "cell_type": "code",
   "execution_count": null,
   "metadata": {},
   "outputs": [],
   "source": [
    "# Collect segmented data\n",
    "print(\"Collecting segmented data...\")\n",
    "mkeds.run_segmented(num_cycles=2, cycle_duration=2, output_prefix=\"segment\", verbose=True)"
   ]
  },
  {
   "cell_type": "code",
   "execution_count": null,
   "metadata": {},
   "outputs": [],
   "source": [
    "# Train a thought using segmented data\n",
    "print(\"Training thought: focus\")\n",
    "mkeds.train_thought(thought_name=\"focus\", num_cycles=3, cycle_duration=5, verbose=True)"
   ]
  },
  {
   "cell_type": "code",
   "execution_count": null,
   "metadata": {},
   "outputs": [],
   "source": [
    "import os\n",
    "from dotenv import load_dotenv\n",
    "from mkeds import MKEDS\n",
    "\n",
    "load_dotenv()\n",
    "device_id = os.getenv(\"NEUROSITY_DEVICE_ID\")\n",
    "email = os.getenv(\"NEUROSITY_EMAIL\")\n",
    "password = os.getenv(\"NEUROSITY_PASSWORD\")\n",
    "\n",
    "# Instantiate the MKEDS class for inference with the pre-trained model\n",
    "mkeds_inference = MKEDS(device_id, email, password, model_path=\"models/focus.h5\")\n",
    "\n",
    "# Perform real-time inference\n",
    "print(\"Performing real-time inference...\")\n",
    "mkeds_inference.run_inference(thought_names=[\"focus\"], duration=5, threshold=0.0)"
   ]
  }
 ],
 "metadata": {
  "kernelspec": {
   "display_name": "Python 3",
   "language": "python",
   "name": "python3"
  },
  "language_info": {
   "codemirror_mode": {
    "name": "ipython",
    "version": 3
   },
   "file_extension": ".py",
   "mimetype": "text/x-python",
   "name": "python",
   "nbconvert_exporter": "python",
   "pygments_lexer": "ipython3",
   "version": "3.11.3"
  }
 },
 "nbformat": 4,
 "nbformat_minor": 2
}
